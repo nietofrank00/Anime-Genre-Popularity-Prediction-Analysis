{
 "cells": [
  {
   "cell_type": "markdown",
   "id": "likely-shoulder",
   "metadata": {},
   "source": [
    "# <font color = Purple> Analysis ideas? </font>"
   ]
  },
  {
   "cell_type": "markdown",
   "id": "declared-hawaii",
   "metadata": {},
   "source": [
    "## What genres are popular each year?\n",
    "## What's the most viewed?\n",
    "## What's the highest rated anime?\n",
    "## How can we compansate for multiple seasons? \n",
    "## How much anime have individual people watched? What's the average score of anime of each user\n",
    "## Look at the number of Scores given to each anime"
   ]
  },
  {
   "cell_type": "markdown",
   "id": "solved-increase",
   "metadata": {},
   "source": [
    "### importing stuff"
   ]
  },
  {
   "cell_type": "code",
   "execution_count": 1,
   "id": "unable-implement",
   "metadata": {},
   "outputs": [],
   "source": [
    "import pandas as pd\n",
    "import numpy as np\n",
    "import seaborn as sns\n",
    "import matplotlib.pyplot as plt\n",
    "\n",
    "from scipy.stats import t, norm, f\n",
    "\n",
    "import statsmodels.api as sm\n",
    "import statsmodels.formula.api as smf\n",
    "\n",
    "from sklearn.metrics import confusion_matrix, roc_curve, roc_auc_score\n",
    "import zipfile as zp\n",
    "from sklearn.linear_model import LogisticRegression\n",
    "from sklearn.model_selection import train_test_split"
   ]
  },
  {
   "cell_type": "markdown",
   "id": "nonprofit-reader",
   "metadata": {},
   "source": [
    "importing csv file into dataframe, making NA values"
   ]
  },
  {
   "cell_type": "code",
   "execution_count": 2,
   "id": "anticipated-chrome",
   "metadata": {
    "scrolled": true
   },
   "outputs": [
    {
     "data": {
      "text/plain": [
       "(17562, 35)"
      ]
     },
     "execution_count": 2,
     "metadata": {},
     "output_type": "execute_result"
    }
   ],
   "source": [
    "#importing data, looking for NA Values, counting rows/columns \n",
    "missing_val = ['Unknown']\n",
    "anime = pd.read_csv('anime.csv', na_values=missing_val)\n",
    "anime.shape"
   ]
  },
  {
   "cell_type": "code",
   "execution_count": 3,
   "id": "stable-interstate",
   "metadata": {
    "scrolled": true
   },
   "outputs": [
    {
     "data": {
      "text/plain": [
       "(12421, 35)"
      ]
     },
     "execution_count": 3,
     "metadata": {},
     "output_type": "execute_result"
    }
   ],
   "source": [
    "#only drop the Row if the Column Score contains the word 'Unknown' \n",
    "#insert 'subset=['Score']' to .dropna() to drop only certain rows that meet column condition\n",
    "anime = anime.dropna(subset=['Score'])\n",
    "anime = anime.reset_index(drop=True)\n",
    "anime.shape"
   ]
  },
  {
   "cell_type": "code",
   "execution_count": 4,
   "id": "egyptian-aspect",
   "metadata": {
    "scrolled": true
   },
   "outputs": [],
   "source": [
    "#anime.columns\n",
    "#anime.dtypes"
   ]
  },
  {
   "cell_type": "markdown",
   "id": "indian-scope",
   "metadata": {},
   "source": [
    "finding the genres"
   ]
  },
  {
   "cell_type": "code",
   "execution_count": 5,
   "id": "controlling-lodge",
   "metadata": {
    "scrolled": true
   },
   "outputs": [
    {
     "data": {
      "text/plain": [
       "[('Comedy', 4559),\n",
       " ('Action', 3312),\n",
       " ('Fantasy', 2452),\n",
       " ('Adventure', 2288),\n",
       " ('Sci-Fi', 2185),\n",
       " ('Drama', 2051),\n",
       " ('Shounen', 1796),\n",
       " ('Romance', 1724),\n",
       " ('School', 1433),\n",
       " ('Slice of Life', 1370)]"
      ]
     },
     "execution_count": 5,
     "metadata": {},
     "output_type": "execute_result"
    }
   ],
   "source": [
    "#check how many genres are there\n",
    "temp = anime['Genres']\n",
    "genres = {}\n",
    "for row in anime['Genres']:\n",
    "    list_1 = str(row).split(',')\n",
    "    stuff = []\n",
    "    for thing in list_1:\n",
    "        stuff.append(thing.strip())\n",
    "    for genre in stuff:\n",
    "        if genre in genres:\n",
    "            genres[genre] += 1\n",
    "        else:\n",
    "            genres[genre] = 1\n",
    "genres = sorted(genres.items(), key=lambda x: x[1], reverse=True)\n",
    "genres[:10]"
   ]
  },
  {
   "cell_type": "markdown",
   "id": "critical-shield",
   "metadata": {},
   "source": [
    "testing how to search for specific genres"
   ]
  },
  {
   "cell_type": "code",
   "execution_count": 6,
   "id": "mathematical-circuit",
   "metadata": {
    "scrolled": true
   },
   "outputs": [],
   "source": [
    "anime = anime.dropna(subset=['Genres'])\n",
    "anime = anime.reset_index()\n",
    "\n",
    "comedy = anime.loc[anime['Genres'].str.contains('Comedy')]\n",
    "comedy.shape[0]\n",
    "#temp['Genre_1'].unique()\n",
    "\n",
    "action = anime.loc[anime['Genres'].str.contains('Action')]"
   ]
  },
  {
   "cell_type": "markdown",
   "id": "chronic-kernel",
   "metadata": {},
   "source": [
    "creating columns that confirm genres by 1 and 0, True and False respectfully"
   ]
  },
  {
   "cell_type": "code",
   "execution_count": 7,
   "id": "posted-injection",
   "metadata": {},
   "outputs": [
    {
     "data": {
      "text/html": [
       "<div>\n",
       "<style scoped>\n",
       "    .dataframe tbody tr th:only-of-type {\n",
       "        vertical-align: middle;\n",
       "    }\n",
       "\n",
       "    .dataframe tbody tr th {\n",
       "        vertical-align: top;\n",
       "    }\n",
       "\n",
       "    .dataframe thead th {\n",
       "        text-align: right;\n",
       "    }\n",
       "</style>\n",
       "<table border=\"1\" class=\"dataframe\">\n",
       "  <thead>\n",
       "    <tr style=\"text-align: right;\">\n",
       "      <th></th>\n",
       "      <th>index</th>\n",
       "      <th>MAL_ID</th>\n",
       "      <th>Name</th>\n",
       "      <th>Score</th>\n",
       "      <th>Genres</th>\n",
       "      <th>English name</th>\n",
       "      <th>Japanese name</th>\n",
       "      <th>Type</th>\n",
       "      <th>Episodes</th>\n",
       "      <th>Aired</th>\n",
       "      <th>...</th>\n",
       "      <th>Comedy</th>\n",
       "      <th>Action</th>\n",
       "      <th>Fantasy</th>\n",
       "      <th>Adventure</th>\n",
       "      <th>Sci-Fi</th>\n",
       "      <th>Drama</th>\n",
       "      <th>Shounen</th>\n",
       "      <th>Romance</th>\n",
       "      <th>School</th>\n",
       "      <th>Slice of Life</th>\n",
       "    </tr>\n",
       "  </thead>\n",
       "  <tbody>\n",
       "    <tr>\n",
       "      <th>0</th>\n",
       "      <td>0</td>\n",
       "      <td>1</td>\n",
       "      <td>Cowboy Bebop</td>\n",
       "      <td>8.78</td>\n",
       "      <td>Action, Adventure, Comedy, Drama, Sci-Fi, Space</td>\n",
       "      <td>Cowboy Bebop</td>\n",
       "      <td>カウボーイビバップ</td>\n",
       "      <td>TV</td>\n",
       "      <td>26.0</td>\n",
       "      <td>Apr 3, 1998 to Apr 24, 1999</td>\n",
       "      <td>...</td>\n",
       "      <td>1</td>\n",
       "      <td>1</td>\n",
       "      <td>0</td>\n",
       "      <td>1</td>\n",
       "      <td>1</td>\n",
       "      <td>1</td>\n",
       "      <td>0</td>\n",
       "      <td>0</td>\n",
       "      <td>0</td>\n",
       "      <td>0</td>\n",
       "    </tr>\n",
       "    <tr>\n",
       "      <th>1</th>\n",
       "      <td>1</td>\n",
       "      <td>5</td>\n",
       "      <td>Cowboy Bebop: Tengoku no Tobira</td>\n",
       "      <td>8.39</td>\n",
       "      <td>Action, Drama, Mystery, Sci-Fi, Space</td>\n",
       "      <td>Cowboy Bebop:The Movie</td>\n",
       "      <td>カウボーイビバップ 天国の扉</td>\n",
       "      <td>Movie</td>\n",
       "      <td>1.0</td>\n",
       "      <td>Sep 1, 2001</td>\n",
       "      <td>...</td>\n",
       "      <td>0</td>\n",
       "      <td>1</td>\n",
       "      <td>0</td>\n",
       "      <td>0</td>\n",
       "      <td>1</td>\n",
       "      <td>1</td>\n",
       "      <td>0</td>\n",
       "      <td>0</td>\n",
       "      <td>0</td>\n",
       "      <td>0</td>\n",
       "    </tr>\n",
       "    <tr>\n",
       "      <th>2</th>\n",
       "      <td>2</td>\n",
       "      <td>6</td>\n",
       "      <td>Trigun</td>\n",
       "      <td>8.24</td>\n",
       "      <td>Action, Sci-Fi, Adventure, Comedy, Drama, Shounen</td>\n",
       "      <td>Trigun</td>\n",
       "      <td>トライガン</td>\n",
       "      <td>TV</td>\n",
       "      <td>26.0</td>\n",
       "      <td>Apr 1, 1998 to Sep 30, 1998</td>\n",
       "      <td>...</td>\n",
       "      <td>1</td>\n",
       "      <td>1</td>\n",
       "      <td>0</td>\n",
       "      <td>1</td>\n",
       "      <td>1</td>\n",
       "      <td>1</td>\n",
       "      <td>1</td>\n",
       "      <td>0</td>\n",
       "      <td>0</td>\n",
       "      <td>0</td>\n",
       "    </tr>\n",
       "  </tbody>\n",
       "</table>\n",
       "<p>3 rows × 46 columns</p>\n",
       "</div>"
      ],
      "text/plain": [
       "   index  MAL_ID                             Name  Score  \\\n",
       "0      0       1                     Cowboy Bebop   8.78   \n",
       "1      1       5  Cowboy Bebop: Tengoku no Tobira   8.39   \n",
       "2      2       6                           Trigun   8.24   \n",
       "\n",
       "                                              Genres            English name  \\\n",
       "0    Action, Adventure, Comedy, Drama, Sci-Fi, Space            Cowboy Bebop   \n",
       "1              Action, Drama, Mystery, Sci-Fi, Space  Cowboy Bebop:The Movie   \n",
       "2  Action, Sci-Fi, Adventure, Comedy, Drama, Shounen                  Trigun   \n",
       "\n",
       "    Japanese name   Type  Episodes                        Aired  ... Comedy  \\\n",
       "0       カウボーイビバップ     TV      26.0  Apr 3, 1998 to Apr 24, 1999  ...      1   \n",
       "1  カウボーイビバップ 天国の扉  Movie       1.0                  Sep 1, 2001  ...      0   \n",
       "2           トライガン     TV      26.0  Apr 1, 1998 to Sep 30, 1998  ...      1   \n",
       "\n",
       "  Action Fantasy Adventure Sci-Fi Drama Shounen  Romance  School  \\\n",
       "0      1       0         1      1     1       0        0       0   \n",
       "1      1       0         0      1     1       0        0       0   \n",
       "2      1       0         1      1     1       1        0       0   \n",
       "\n",
       "   Slice of Life  \n",
       "0              0  \n",
       "1              0  \n",
       "2              0  \n",
       "\n",
       "[3 rows x 46 columns]"
      ]
     },
     "execution_count": 7,
     "metadata": {},
     "output_type": "execute_result"
    }
   ],
   "source": [
    "#top_ten = ['Comedy', 'Action', 'Fantasy', 'Adventure', 'Sci-Fi', 'Drama']\n",
    "for i in range(10):\n",
    "    sprite = genres[i][0]\n",
    "    anime[sprite] = anime['Genres'].str.contains(sprite)\n",
    "    anime[sprite] = anime[sprite].map({True: 1, False: 0})\n",
    "anime.head(3)"
   ]
  },
  {
   "cell_type": "code",
   "execution_count": null,
   "id": "major-roller",
   "metadata": {},
   "outputs": [],
   "source": []
  },
  {
   "cell_type": "code",
   "execution_count": 8,
   "id": "former-oliver",
   "metadata": {
    "scrolled": true
   },
   "outputs": [
    {
     "data": {
      "text/html": [
       "<div>\n",
       "<style scoped>\n",
       "    .dataframe tbody tr th:only-of-type {\n",
       "        vertical-align: middle;\n",
       "    }\n",
       "\n",
       "    .dataframe tbody tr th {\n",
       "        vertical-align: top;\n",
       "    }\n",
       "\n",
       "    .dataframe thead th {\n",
       "        text-align: right;\n",
       "    }\n",
       "</style>\n",
       "<table border=\"1\" class=\"dataframe\">\n",
       "  <thead>\n",
       "    <tr style=\"text-align: right;\">\n",
       "      <th></th>\n",
       "      <th>index</th>\n",
       "      <th>MAL_ID</th>\n",
       "      <th>Name</th>\n",
       "      <th>Score</th>\n",
       "      <th>Genres</th>\n",
       "      <th>English name</th>\n",
       "      <th>Japanese name</th>\n",
       "      <th>Type</th>\n",
       "      <th>Episodes</th>\n",
       "      <th>Aired</th>\n",
       "      <th>...</th>\n",
       "      <th>Score-10</th>\n",
       "      <th>Score-9</th>\n",
       "      <th>Score-8</th>\n",
       "      <th>Score-7</th>\n",
       "      <th>Score-6</th>\n",
       "      <th>Score-5</th>\n",
       "      <th>Score-4</th>\n",
       "      <th>Score-3</th>\n",
       "      <th>Score-2</th>\n",
       "      <th>Score-1</th>\n",
       "    </tr>\n",
       "  </thead>\n",
       "  <tbody>\n",
       "    <tr>\n",
       "      <th>3902</th>\n",
       "      <td>3902</td>\n",
       "      <td>5114</td>\n",
       "      <td>Fullmetal Alchemist: Brotherhood</td>\n",
       "      <td>9.19</td>\n",
       "      <td>Action, Military, Adventure, Comedy, Drama, Ma...</td>\n",
       "      <td>Fullmetal Alchemist:Brotherhood</td>\n",
       "      <td>鋼の錬金術師 FULLMETAL ALCHEMIST</td>\n",
       "      <td>TV</td>\n",
       "      <td>64.0</td>\n",
       "      <td>Apr 5, 2009 to Jul 4, 2010</td>\n",
       "      <td>...</td>\n",
       "      <td>714811.0</td>\n",
       "      <td>401507.0</td>\n",
       "      <td>199160.0</td>\n",
       "      <td>70045.0</td>\n",
       "      <td>20210.0</td>\n",
       "      <td>9308.0</td>\n",
       "      <td>3222.0</td>\n",
       "      <td>1536.0</td>\n",
       "      <td>2162.0</td>\n",
       "      <td>16806.0</td>\n",
       "    </tr>\n",
       "    <tr>\n",
       "      <th>8314</th>\n",
       "      <td>8315</td>\n",
       "      <td>28977</td>\n",
       "      <td>Gintama°</td>\n",
       "      <td>9.10</td>\n",
       "      <td>Action, Comedy, Historical, Parody, Samurai, S...</td>\n",
       "      <td>Gintama Season 4</td>\n",
       "      <td>銀魂°</td>\n",
       "      <td>TV</td>\n",
       "      <td>51.0</td>\n",
       "      <td>Apr 8, 2015 to Mar 30, 2016</td>\n",
       "      <td>...</td>\n",
       "      <td>78918.0</td>\n",
       "      <td>37902.0</td>\n",
       "      <td>21360.0</td>\n",
       "      <td>10215.0</td>\n",
       "      <td>3898.0</td>\n",
       "      <td>2311.0</td>\n",
       "      <td>952.0</td>\n",
       "      <td>648.0</td>\n",
       "      <td>1100.0</td>\n",
       "      <td>4508.0</td>\n",
       "    </tr>\n",
       "    <tr>\n",
       "      <th>5652</th>\n",
       "      <td>5652</td>\n",
       "      <td>9969</td>\n",
       "      <td>Gintama'</td>\n",
       "      <td>9.08</td>\n",
       "      <td>Action, Sci-Fi, Comedy, Historical, Parody, Sa...</td>\n",
       "      <td>Gintama Season 2</td>\n",
       "      <td>銀魂'</td>\n",
       "      <td>TV</td>\n",
       "      <td>51.0</td>\n",
       "      <td>Apr 4, 2011 to Mar 26, 2012</td>\n",
       "      <td>...</td>\n",
       "      <td>74992.0</td>\n",
       "      <td>44740.0</td>\n",
       "      <td>24294.0</td>\n",
       "      <td>9584.0</td>\n",
       "      <td>3222.0</td>\n",
       "      <td>1655.0</td>\n",
       "      <td>694.0</td>\n",
       "      <td>338.0</td>\n",
       "      <td>437.0</td>\n",
       "      <td>2910.0</td>\n",
       "    </tr>\n",
       "    <tr>\n",
       "      <th>6694</th>\n",
       "      <td>6694</td>\n",
       "      <td>15417</td>\n",
       "      <td>Gintama': Enchousen</td>\n",
       "      <td>9.04</td>\n",
       "      <td>Action, Comedy, Historical, Parody, Samurai, S...</td>\n",
       "      <td>Gintama:Enchousen</td>\n",
       "      <td>銀魂' 延長戦</td>\n",
       "      <td>TV</td>\n",
       "      <td>13.0</td>\n",
       "      <td>Oct 4, 2012 to Mar 28, 2013</td>\n",
       "      <td>...</td>\n",
       "      <td>51383.0</td>\n",
       "      <td>32100.0</td>\n",
       "      <td>17753.0</td>\n",
       "      <td>6900.0</td>\n",
       "      <td>1968.0</td>\n",
       "      <td>867.0</td>\n",
       "      <td>303.0</td>\n",
       "      <td>184.0</td>\n",
       "      <td>145.0</td>\n",
       "      <td>2059.0</td>\n",
       "    </tr>\n",
       "    <tr>\n",
       "      <th>9823</th>\n",
       "      <td>9837</td>\n",
       "      <td>34096</td>\n",
       "      <td>Gintama.</td>\n",
       "      <td>8.99</td>\n",
       "      <td>Action, Comedy, Historical, Parody, Samurai, S...</td>\n",
       "      <td>Gintama Season 5</td>\n",
       "      <td>銀魂。</td>\n",
       "      <td>TV</td>\n",
       "      <td>12.0</td>\n",
       "      <td>Jan 9, 2017 to Mar 27, 2017</td>\n",
       "      <td>...</td>\n",
       "      <td>40873.0</td>\n",
       "      <td>26546.0</td>\n",
       "      <td>15035.0</td>\n",
       "      <td>5856.0</td>\n",
       "      <td>1926.0</td>\n",
       "      <td>827.0</td>\n",
       "      <td>338.0</td>\n",
       "      <td>172.0</td>\n",
       "      <td>126.0</td>\n",
       "      <td>1628.0</td>\n",
       "    </tr>\n",
       "    <tr>\n",
       "      <th>3482</th>\n",
       "      <td>3482</td>\n",
       "      <td>4181</td>\n",
       "      <td>Clannad: After Story</td>\n",
       "      <td>8.96</td>\n",
       "      <td>Slice of Life, Comedy, Supernatural, Drama, Ro...</td>\n",
       "      <td>Clannad ~After Story~</td>\n",
       "      <td>CLANNAD〜AFTER STORY〜 クラナド アフターストーリー</td>\n",
       "      <td>TV</td>\n",
       "      <td>24.0</td>\n",
       "      <td>Oct 3, 2008 to Mar 27, 2009</td>\n",
       "      <td>...</td>\n",
       "      <td>245597.0</td>\n",
       "      <td>131311.0</td>\n",
       "      <td>79823.0</td>\n",
       "      <td>37908.0</td>\n",
       "      <td>15633.0</td>\n",
       "      <td>7532.0</td>\n",
       "      <td>3921.0</td>\n",
       "      <td>1769.0</td>\n",
       "      <td>1318.0</td>\n",
       "      <td>2573.0</td>\n",
       "    </tr>\n",
       "    <tr>\n",
       "      <th>833</th>\n",
       "      <td>833</td>\n",
       "      <td>918</td>\n",
       "      <td>Gintama</td>\n",
       "      <td>8.96</td>\n",
       "      <td>Action, Comedy, Historical, Parody, Samurai, S...</td>\n",
       "      <td>Gintama</td>\n",
       "      <td>銀魂</td>\n",
       "      <td>TV</td>\n",
       "      <td>201.0</td>\n",
       "      <td>Apr 4, 2006 to Mar 25, 2010</td>\n",
       "      <td>...</td>\n",
       "      <td>108448.0</td>\n",
       "      <td>74869.0</td>\n",
       "      <td>52666.0</td>\n",
       "      <td>27675.0</td>\n",
       "      <td>11208.0</td>\n",
       "      <td>6423.0</td>\n",
       "      <td>2934.0</td>\n",
       "      <td>1299.0</td>\n",
       "      <td>850.0</td>\n",
       "      <td>2743.0</td>\n",
       "    </tr>\n",
       "    <tr>\n",
       "      <th>10190</th>\n",
       "      <td>10205</td>\n",
       "      <td>35247</td>\n",
       "      <td>Owarimonogatari 2nd Season</td>\n",
       "      <td>8.93</td>\n",
       "      <td>Mystery, Comedy, Supernatural, Vampire</td>\n",
       "      <td>Owarimonogatari Second Season</td>\n",
       "      <td>終物語</td>\n",
       "      <td>TV</td>\n",
       "      <td>7.0</td>\n",
       "      <td>Aug 12, 2017 to Aug 13, 2017</td>\n",
       "      <td>...</td>\n",
       "      <td>47996.0</td>\n",
       "      <td>41520.0</td>\n",
       "      <td>24216.0</td>\n",
       "      <td>8808.0</td>\n",
       "      <td>2687.0</td>\n",
       "      <td>912.0</td>\n",
       "      <td>358.0</td>\n",
       "      <td>149.0</td>\n",
       "      <td>107.0</td>\n",
       "      <td>1122.0</td>\n",
       "    </tr>\n",
       "    <tr>\n",
       "      <th>9415</th>\n",
       "      <td>9427</td>\n",
       "      <td>32935</td>\n",
       "      <td>Haikyuu!!: Karasuno Koukou vs. Shiratorizawa G...</td>\n",
       "      <td>8.87</td>\n",
       "      <td>Comedy, Sports, Drama, School, Shounen</td>\n",
       "      <td>Haikyu!! 3rd Season</td>\n",
       "      <td>ハイキュー!! 烏野高校 VS 白鳥沢学園高校</td>\n",
       "      <td>TV</td>\n",
       "      <td>10.0</td>\n",
       "      <td>Oct 8, 2016 to Dec 10, 2016</td>\n",
       "      <td>...</td>\n",
       "      <td>155408.0</td>\n",
       "      <td>167036.0</td>\n",
       "      <td>106594.0</td>\n",
       "      <td>36951.0</td>\n",
       "      <td>8582.0</td>\n",
       "      <td>2809.0</td>\n",
       "      <td>773.0</td>\n",
       "      <td>287.0</td>\n",
       "      <td>160.0</td>\n",
       "      <td>1201.0</td>\n",
       "    </tr>\n",
       "    <tr>\n",
       "      <th>10962</th>\n",
       "      <td>10977</td>\n",
       "      <td>37491</td>\n",
       "      <td>Gintama.: Shirogane no Tamashii-hen - Kouhan-sen</td>\n",
       "      <td>8.86</td>\n",
       "      <td>Action, Sci-Fi, Comedy, Historical, Parody, Sa...</td>\n",
       "      <td>Gintama.:Silver Soul Arc - Second Half War</td>\n",
       "      <td>銀魂. 銀ノ魂篇 後半戦</td>\n",
       "      <td>TV</td>\n",
       "      <td>14.0</td>\n",
       "      <td>Jul 9, 2018 to Oct 8, 2018</td>\n",
       "      <td>...</td>\n",
       "      <td>21024.0</td>\n",
       "      <td>15335.0</td>\n",
       "      <td>10230.0</td>\n",
       "      <td>3947.0</td>\n",
       "      <td>1229.0</td>\n",
       "      <td>500.0</td>\n",
       "      <td>210.0</td>\n",
       "      <td>97.0</td>\n",
       "      <td>59.0</td>\n",
       "      <td>874.0</td>\n",
       "    </tr>\n",
       "  </tbody>\n",
       "</table>\n",
       "<p>10 rows × 36 columns</p>\n",
       "</div>"
      ],
      "text/plain": [
       "       index  MAL_ID                                               Name  \\\n",
       "3902    3902    5114                   Fullmetal Alchemist: Brotherhood   \n",
       "8314    8315   28977                                           Gintama°   \n",
       "5652    5652    9969                                           Gintama'   \n",
       "6694    6694   15417                                Gintama': Enchousen   \n",
       "9823    9837   34096                                           Gintama.   \n",
       "3482    3482    4181                               Clannad: After Story   \n",
       "833      833     918                                            Gintama   \n",
       "10190  10205   35247                         Owarimonogatari 2nd Season   \n",
       "9415    9427   32935  Haikyuu!!: Karasuno Koukou vs. Shiratorizawa G...   \n",
       "10962  10977   37491   Gintama.: Shirogane no Tamashii-hen - Kouhan-sen   \n",
       "\n",
       "       Score                                             Genres  \\\n",
       "3902    9.19  Action, Military, Adventure, Comedy, Drama, Ma...   \n",
       "8314    9.10  Action, Comedy, Historical, Parody, Samurai, S...   \n",
       "5652    9.08  Action, Sci-Fi, Comedy, Historical, Parody, Sa...   \n",
       "6694    9.04  Action, Comedy, Historical, Parody, Samurai, S...   \n",
       "9823    8.99  Action, Comedy, Historical, Parody, Samurai, S...   \n",
       "3482    8.96  Slice of Life, Comedy, Supernatural, Drama, Ro...   \n",
       "833     8.96  Action, Comedy, Historical, Parody, Samurai, S...   \n",
       "10190   8.93             Mystery, Comedy, Supernatural, Vampire   \n",
       "9415    8.87             Comedy, Sports, Drama, School, Shounen   \n",
       "10962   8.86  Action, Sci-Fi, Comedy, Historical, Parody, Sa...   \n",
       "\n",
       "                                     English name  \\\n",
       "3902              Fullmetal Alchemist:Brotherhood   \n",
       "8314                             Gintama Season 4   \n",
       "5652                             Gintama Season 2   \n",
       "6694                            Gintama:Enchousen   \n",
       "9823                             Gintama Season 5   \n",
       "3482                        Clannad ~After Story~   \n",
       "833                                       Gintama   \n",
       "10190               Owarimonogatari Second Season   \n",
       "9415                          Haikyu!! 3rd Season   \n",
       "10962  Gintama.:Silver Soul Arc - Second Half War   \n",
       "\n",
       "                             Japanese name Type  Episodes  \\\n",
       "3902            鋼の錬金術師 FULLMETAL ALCHEMIST   TV      64.0   \n",
       "8314                                   銀魂°   TV      51.0   \n",
       "5652                                   銀魂'   TV      51.0   \n",
       "6694                               銀魂' 延長戦   TV      13.0   \n",
       "9823                                   銀魂。   TV      12.0   \n",
       "3482   CLANNAD〜AFTER STORY〜 クラナド アフターストーリー   TV      24.0   \n",
       "833                                     銀魂   TV     201.0   \n",
       "10190                                  終物語   TV       7.0   \n",
       "9415               ハイキュー!! 烏野高校 VS 白鳥沢学園高校   TV      10.0   \n",
       "10962                         銀魂. 銀ノ魂篇 後半戦   TV      14.0   \n",
       "\n",
       "                              Aired  ...  Score-10   Score-9   Score-8  \\\n",
       "3902     Apr 5, 2009 to Jul 4, 2010  ...  714811.0  401507.0  199160.0   \n",
       "8314    Apr 8, 2015 to Mar 30, 2016  ...   78918.0   37902.0   21360.0   \n",
       "5652    Apr 4, 2011 to Mar 26, 2012  ...   74992.0   44740.0   24294.0   \n",
       "6694    Oct 4, 2012 to Mar 28, 2013  ...   51383.0   32100.0   17753.0   \n",
       "9823    Jan 9, 2017 to Mar 27, 2017  ...   40873.0   26546.0   15035.0   \n",
       "3482    Oct 3, 2008 to Mar 27, 2009  ...  245597.0  131311.0   79823.0   \n",
       "833     Apr 4, 2006 to Mar 25, 2010  ...  108448.0   74869.0   52666.0   \n",
       "10190  Aug 12, 2017 to Aug 13, 2017  ...   47996.0   41520.0   24216.0   \n",
       "9415    Oct 8, 2016 to Dec 10, 2016  ...  155408.0  167036.0  106594.0   \n",
       "10962    Jul 9, 2018 to Oct 8, 2018  ...   21024.0   15335.0   10230.0   \n",
       "\n",
       "       Score-7  Score-6 Score-5 Score-4  Score-3  Score-2  Score-1  \n",
       "3902   70045.0  20210.0  9308.0  3222.0   1536.0   2162.0  16806.0  \n",
       "8314   10215.0   3898.0  2311.0   952.0    648.0   1100.0   4508.0  \n",
       "5652    9584.0   3222.0  1655.0   694.0    338.0    437.0   2910.0  \n",
       "6694    6900.0   1968.0   867.0   303.0    184.0    145.0   2059.0  \n",
       "9823    5856.0   1926.0   827.0   338.0    172.0    126.0   1628.0  \n",
       "3482   37908.0  15633.0  7532.0  3921.0   1769.0   1318.0   2573.0  \n",
       "833    27675.0  11208.0  6423.0  2934.0   1299.0    850.0   2743.0  \n",
       "10190   8808.0   2687.0   912.0   358.0    149.0    107.0   1122.0  \n",
       "9415   36951.0   8582.0  2809.0   773.0    287.0    160.0   1201.0  \n",
       "10962   3947.0   1229.0   500.0   210.0     97.0     59.0    874.0  \n",
       "\n",
       "[10 rows x 36 columns]"
      ]
     },
     "execution_count": 8,
     "metadata": {},
     "output_type": "execute_result"
    }
   ],
   "source": [
    "comedy[comedy['Type'] == 'TV'].sort_values(by='Score', ascending=False).head(10)"
   ]
  },
  {
   "cell_type": "markdown",
   "id": "turned-cleaner",
   "metadata": {},
   "source": [
    "creating a total number of scores column"
   ]
  },
  {
   "cell_type": "code",
   "execution_count": 9,
   "id": "stone-professional",
   "metadata": {
    "scrolled": false
   },
   "outputs": [
    {
     "data": {
      "text/plain": [
       "(3837, 47)"
      ]
     },
     "execution_count": 9,
     "metadata": {},
     "output_type": "execute_result"
    }
   ],
   "source": [
    "cheese = []\n",
    "for i in range(len(anime)):\n",
    "    total = anime['Score-10'][i] + anime['Score-9'][i] + anime['Score-8'][i] + anime['Score-7'][i] + anime['Score-6'][i] + anime['Score-5'][i] + anime['Score-4'][i] + anime['Score-3'][i] + anime['Score-2'][i] + anime['Score-1'][i]\n",
    "    cheese.append(total)\n",
    "    \n",
    "anime['Total Scores'] = cheese\n",
    "anime[anime['Type'] == 'TV'].sort_values(by='Total Scores', ascending=False).shape"
   ]
  },
  {
   "cell_type": "code",
   "execution_count": 10,
   "id": "composed-mozambique",
   "metadata": {},
   "outputs": [
    {
     "data": {
      "text/plain": [
       "array(['TV', 'Movie', 'OVA', 'Special', 'ONA', 'Music'], dtype=object)"
      ]
     },
     "execution_count": 10,
     "metadata": {},
     "output_type": "execute_result"
    }
   ],
   "source": [
    "anime['Type'].unique()"
   ]
  },
  {
   "cell_type": "code",
   "execution_count": 11,
   "id": "completed-encyclopedia",
   "metadata": {},
   "outputs": [
    {
     "data": {
      "text/plain": [
       "(7757, 47)"
      ]
     },
     "execution_count": 11,
     "metadata": {},
     "output_type": "execute_result"
    }
   ],
   "source": [
    "anime[anime['Total Scores'] > 1000].sort_values(by='Total Scores', ascending=False).shape"
   ]
  },
  {
   "cell_type": "code",
   "execution_count": 12,
   "id": "female-springfield",
   "metadata": {
    "scrolled": false
   },
   "outputs": [
    {
     "data": {
      "text/plain": [
       "(3052, 47)"
      ]
     },
     "execution_count": 12,
     "metadata": {},
     "output_type": "execute_result"
    }
   ],
   "source": [
    "anime[(anime['Type'] == 'TV') & (anime['Total Scores'] > 1000)].sort_values(by='Total Scores', ascending=False).shape"
   ]
  },
  {
   "cell_type": "code",
   "execution_count": 13,
   "id": "advanced-delaware",
   "metadata": {
    "scrolled": true
   },
   "outputs": [
    {
     "data": {
      "text/html": [
       "<div>\n",
       "<style scoped>\n",
       "    .dataframe tbody tr th:only-of-type {\n",
       "        vertical-align: middle;\n",
       "    }\n",
       "\n",
       "    .dataframe tbody tr th {\n",
       "        vertical-align: top;\n",
       "    }\n",
       "\n",
       "    .dataframe thead th {\n",
       "        text-align: right;\n",
       "    }\n",
       "</style>\n",
       "<table border=\"1\" class=\"dataframe\">\n",
       "  <thead>\n",
       "    <tr style=\"text-align: right;\">\n",
       "      <th></th>\n",
       "      <th>index</th>\n",
       "      <th>MAL_ID</th>\n",
       "      <th>Name</th>\n",
       "      <th>Score</th>\n",
       "      <th>Genres</th>\n",
       "      <th>English name</th>\n",
       "      <th>Japanese name</th>\n",
       "      <th>Type</th>\n",
       "      <th>Episodes</th>\n",
       "      <th>Aired</th>\n",
       "      <th>...</th>\n",
       "      <th>Action</th>\n",
       "      <th>Fantasy</th>\n",
       "      <th>Adventure</th>\n",
       "      <th>Sci-Fi</th>\n",
       "      <th>Drama</th>\n",
       "      <th>Shounen</th>\n",
       "      <th>Romance</th>\n",
       "      <th>School</th>\n",
       "      <th>Slice of Life</th>\n",
       "      <th>Total Scores</th>\n",
       "    </tr>\n",
       "  </thead>\n",
       "  <tbody>\n",
       "    <tr>\n",
       "      <th>7602</th>\n",
       "      <td>7602</td>\n",
       "      <td>22345</td>\n",
       "      <td>Funny Pets 2nd Season</td>\n",
       "      <td>5.56</td>\n",
       "      <td>Comedy</td>\n",
       "      <td>NaN</td>\n",
       "      <td>Funny Pets 2ndシーズン</td>\n",
       "      <td>TV</td>\n",
       "      <td>12.0</td>\n",
       "      <td>Oct 9, 2006 to Dec 25, 2006</td>\n",
       "      <td>...</td>\n",
       "      <td>0</td>\n",
       "      <td>0</td>\n",
       "      <td>0</td>\n",
       "      <td>0</td>\n",
       "      <td>0</td>\n",
       "      <td>0</td>\n",
       "      <td>0</td>\n",
       "      <td>0</td>\n",
       "      <td>0</td>\n",
       "      <td>135.0</td>\n",
       "    </tr>\n",
       "    <tr>\n",
       "      <th>3650</th>\n",
       "      <td>3650</td>\n",
       "      <td>4553</td>\n",
       "      <td>Sukima no Kuni no Polta</td>\n",
       "      <td>5.89</td>\n",
       "      <td>Fantasy</td>\n",
       "      <td>NaN</td>\n",
       "      <td>スキマの国のポルタ</td>\n",
       "      <td>TV</td>\n",
       "      <td>13.0</td>\n",
       "      <td>Sep 15, 2005 to Jul 19, 2007</td>\n",
       "      <td>...</td>\n",
       "      <td>0</td>\n",
       "      <td>1</td>\n",
       "      <td>0</td>\n",
       "      <td>0</td>\n",
       "      <td>0</td>\n",
       "      <td>0</td>\n",
       "      <td>0</td>\n",
       "      <td>0</td>\n",
       "      <td>0</td>\n",
       "      <td>113.0</td>\n",
       "    </tr>\n",
       "    <tr>\n",
       "      <th>9954</th>\n",
       "      <td>9968</td>\n",
       "      <td>34510</td>\n",
       "      <td>Hei Mao Jing Zhang</td>\n",
       "      <td>5.62</td>\n",
       "      <td>Action, Adventure, Cars, Comedy, Kids, Police</td>\n",
       "      <td>Black Cat Detective</td>\n",
       "      <td>黑貓警長</td>\n",
       "      <td>TV</td>\n",
       "      <td>5.0</td>\n",
       "      <td>Jan, 1984 to Dec, 1984</td>\n",
       "      <td>...</td>\n",
       "      <td>1</td>\n",
       "      <td>0</td>\n",
       "      <td>1</td>\n",
       "      <td>0</td>\n",
       "      <td>0</td>\n",
       "      <td>0</td>\n",
       "      <td>0</td>\n",
       "      <td>0</td>\n",
       "      <td>0</td>\n",
       "      <td>127.0</td>\n",
       "    </tr>\n",
       "    <tr>\n",
       "      <th>7247</th>\n",
       "      <td>7247</td>\n",
       "      <td>19585</td>\n",
       "      <td>Kobo-chan</td>\n",
       "      <td>6.55</td>\n",
       "      <td>Comedy, Kids, Slice of Life</td>\n",
       "      <td>NaN</td>\n",
       "      <td>コボちゃん</td>\n",
       "      <td>TV</td>\n",
       "      <td>63.0</td>\n",
       "      <td>Oct 19, 1992 to Mar 21, 1994</td>\n",
       "      <td>...</td>\n",
       "      <td>0</td>\n",
       "      <td>0</td>\n",
       "      <td>0</td>\n",
       "      <td>0</td>\n",
       "      <td>0</td>\n",
       "      <td>0</td>\n",
       "      <td>0</td>\n",
       "      <td>0</td>\n",
       "      <td>1</td>\n",
       "      <td>133.0</td>\n",
       "    </tr>\n",
       "    <tr>\n",
       "      <th>8101</th>\n",
       "      <td>8101</td>\n",
       "      <td>27589</td>\n",
       "      <td>47 Todoufuken</td>\n",
       "      <td>5.59</td>\n",
       "      <td>Kids, Comedy</td>\n",
       "      <td>NaN</td>\n",
       "      <td>47都道府犬</td>\n",
       "      <td>TV</td>\n",
       "      <td>26.0</td>\n",
       "      <td>Apr 7, 2011 to Sep 29, 2011</td>\n",
       "      <td>...</td>\n",
       "      <td>0</td>\n",
       "      <td>0</td>\n",
       "      <td>0</td>\n",
       "      <td>0</td>\n",
       "      <td>0</td>\n",
       "      <td>0</td>\n",
       "      <td>0</td>\n",
       "      <td>0</td>\n",
       "      <td>0</td>\n",
       "      <td>114.0</td>\n",
       "    </tr>\n",
       "  </tbody>\n",
       "</table>\n",
       "<p>5 rows × 47 columns</p>\n",
       "</div>"
      ],
      "text/plain": [
       "      index  MAL_ID                     Name  Score  \\\n",
       "7602   7602   22345    Funny Pets 2nd Season   5.56   \n",
       "3650   3650    4553  Sukima no Kuni no Polta   5.89   \n",
       "9954   9968   34510       Hei Mao Jing Zhang   5.62   \n",
       "7247   7247   19585                Kobo-chan   6.55   \n",
       "8101   8101   27589            47 Todoufuken   5.59   \n",
       "\n",
       "                                             Genres         English name  \\\n",
       "7602                                         Comedy                  NaN   \n",
       "3650                                        Fantasy                  NaN   \n",
       "9954  Action, Adventure, Cars, Comedy, Kids, Police  Black Cat Detective   \n",
       "7247                    Comedy, Kids, Slice of Life                  NaN   \n",
       "8101                                   Kids, Comedy                  NaN   \n",
       "\n",
       "           Japanese name Type  Episodes                         Aired  ...  \\\n",
       "7602  Funny Pets 2ndシーズン   TV      12.0   Oct 9, 2006 to Dec 25, 2006  ...   \n",
       "3650           スキマの国のポルタ   TV      13.0  Sep 15, 2005 to Jul 19, 2007  ...   \n",
       "9954                黑貓警長   TV       5.0        Jan, 1984 to Dec, 1984  ...   \n",
       "7247               コボちゃん   TV      63.0  Oct 19, 1992 to Mar 21, 1994  ...   \n",
       "8101              47都道府犬   TV      26.0   Apr 7, 2011 to Sep 29, 2011  ...   \n",
       "\n",
       "     Action Fantasy Adventure Sci-Fi Drama Shounen Romance  School  \\\n",
       "7602      0       0         0      0     0       0       0       0   \n",
       "3650      0       1         0      0     0       0       0       0   \n",
       "9954      1       0         1      0     0       0       0       0   \n",
       "7247      0       0         0      0     0       0       0       0   \n",
       "8101      0       0         0      0     0       0       0       0   \n",
       "\n",
       "      Slice of Life  Total Scores  \n",
       "7602              0         135.0  \n",
       "3650              0         113.0  \n",
       "9954              0         127.0  \n",
       "7247              1         133.0  \n",
       "8101              0         114.0  \n",
       "\n",
       "[5 rows x 47 columns]"
      ]
     },
     "execution_count": 13,
     "metadata": {},
     "output_type": "execute_result"
    }
   ],
   "source": [
    "anime[anime['Type'] == 'TV'].sort_values(by='Popularity', ascending=False).head()"
   ]
  },
  {
   "cell_type": "markdown",
   "id": "functional-madagascar",
   "metadata": {},
   "source": [
    "GRaphs and Visualizations"
   ]
  },
  {
   "cell_type": "code",
   "execution_count": 14,
   "id": "solid-mitchell",
   "metadata": {
    "scrolled": true
   },
   "outputs": [
    {
     "data": {
      "image/png": "[encoded data removed]",
      "text/plain": [
       "<Figure size 432x288 with 1 Axes>"
      ]
     },
     "metadata": {
      "needs_background": "light"
     },
     "output_type": "display_data"
    },
    {
     "data": {
      "image/png": "[encoded data removed]",
      "text/plain": [
       "<Figure size 432x288 with 1 Axes>"
      ]
     },
     "metadata": {
      "needs_background": "light"
     },
     "output_type": "display_data"
    }
   ],
   "source": [
    "anime[(anime['Type'] == 'TV') & (anime['Episodes'])]['Episodes'].hist()\n",
    "plt.show()\n",
    "\n",
    "anime[(anime['Type'] == 'TV') & (anime['Episodes'] <= 100)]['Episodes'].hist()\n",
    "plt.title('Shows with less than 100 episodes')\n",
    "plt.show()"
   ]
  },
  {
   "cell_type": "code",
   "execution_count": 15,
   "id": "endless-qualification",
   "metadata": {
    "scrolled": false
   },
   "outputs": [
    {
     "data": {
      "image/png": "[encoded data removed]",
      "text/plain": [
       "<Figure size 432x432 with 1 Axes>"
      ]
     },
     "metadata": {
      "needs_background": "light"
     },
     "output_type": "display_data"
    }
   ],
   "source": [
    "results = smf.ols(formula = 'Score ~ Comedy', data=anime).fit()\n",
    "results.summary()\n",
    "\n",
    "fig, ax = plt.subplots(figsize = (6,6))\n",
    "\n",
    "ax.plot(anime['Comedy'], anime['Score'], '.',linewidth = 1)\n",
    "# plot(x value, y value, style)\n",
    "\n",
    "m, b = np.polyfit(anime['Comedy'], anime['Score'], 1)\n",
    "# polyfit(x value, y value)\n",
    "plt.plot(anime['Comedy'], m*anime['Comedy'] + b)\n",
    "# plot(x value, function of x)\n",
    "\n",
    "plt.show()\n"
   ]
  },
  {
   "cell_type": "code",
   "execution_count": 16,
   "id": "certain-paint",
   "metadata": {},
   "outputs": [
    {
     "data": {
      "image/png": "[encoded data removed]",
      "text/plain": [
       "<Figure size 432x288 with 1 Axes>"
      ]
     },
     "metadata": {
      "needs_background": "light"
     },
     "output_type": "display_data"
    }
   ],
   "source": [
    "sns.regplot(x='Comedy', y='Score', data=anime, ci=False)\n",
    "plt.show()"
   ]
  },
  {
   "cell_type": "code",
   "execution_count": 17,
   "id": "41b19465",
   "metadata": {},
   "outputs": [
    {
     "data": {
      "image/png": "[encoded data removed]",
      "text/plain": [
       "<Figure size 432x288 with 1 Axes>"
      ]
     },
     "metadata": {
      "needs_background": "light"
     },
     "output_type": "display_data"
    }
   ],
   "source": [
    "sns.boxplot(x='Comedy', y='Score', data=anime)\n",
    "plt.show()"
   ]
  },
  {
   "cell_type": "code",
   "execution_count": 18,
   "id": "103284a4",
   "metadata": {},
   "outputs": [
    {
     "data": {
      "text/plain": [
       "count    7847.000000\n",
       "mean        6.399449\n",
       "std         0.893778\n",
       "min         1.850000\n",
       "25%         5.780000\n",
       "50%         6.390000\n",
       "75%         7.030000\n",
       "max         9.170000\n",
       "Name: Score, dtype: float64"
      ]
     },
     "execution_count": 18,
     "metadata": {},
     "output_type": "execute_result"
    }
   ],
   "source": [
    "anime[(anime['Comedy'] == 0)]['Score'].describe()"
   ]
  },
  {
   "cell_type": "code",
   "execution_count": 19,
   "id": "available-columbus",
   "metadata": {
    "scrolled": true
   },
   "outputs": [
    {
     "data": {
      "image/png": "[encoded data removed]",
      "text/plain": [
       "<Figure size 432x288 with 1 Axes>"
      ]
     },
     "metadata": {
      "needs_background": "light"
     },
     "output_type": "display_data"
    }
   ],
   "source": [
    "sns.boxplot(x='Action', y='Score', data=anime)\n",
    "plt.show()"
   ]
  },
  {
   "cell_type": "code",
   "execution_count": 20,
   "id": "capital-amsterdam",
   "metadata": {},
   "outputs": [
    {
     "data": {
      "text/plain": [
       "count    9094.000000\n",
       "mean        6.424249\n",
       "std         0.883731\n",
       "min         1.850000\n",
       "25%         5.820000\n",
       "50%         6.440000\n",
       "75%         7.050000\n",
       "max         9.110000\n",
       "Name: Score, dtype: float64"
      ]
     },
     "execution_count": 20,
     "metadata": {},
     "output_type": "execute_result"
    }
   ],
   "source": [
    "anime[(anime['Action'] == 0)]['Score'].describe()"
   ]
  },
  {
   "cell_type": "code",
   "execution_count": 21,
   "id": "fbe11d28",
   "metadata": {},
   "outputs": [
    {
     "data": {
      "image/png": "[encoded data removed]",
      "text/plain": [
       "<Figure size 432x288 with 1 Axes>"
      ]
     },
     "metadata": {
      "needs_background": "light"
     },
     "output_type": "display_data"
    }
   ],
   "source": [
    "sns.boxplot(x='Fantasy', y='Score', data=anime)\n",
    "plt.show()"
   ]
  },
  {
   "cell_type": "code",
   "execution_count": 22,
   "id": "820010b3",
   "metadata": {},
   "outputs": [
    {
     "data": {
      "text/plain": [
       "count    9954.000000\n",
       "mean        6.471052\n",
       "std         0.902481\n",
       "min         1.850000\n",
       "25%         5.860000\n",
       "50%         6.480000\n",
       "75%         7.110000\n",
       "max         9.110000\n",
       "Name: Score, dtype: float64"
      ]
     },
     "execution_count": 22,
     "metadata": {},
     "output_type": "execute_result"
    }
   ],
   "source": [
    "anime[(anime['Fantasy'] == 0)]['Score'].describe()"
   ]
  },
  {
   "cell_type": "code",
   "execution_count": 23,
   "id": "c82939d2",
   "metadata": {},
   "outputs": [
    {
     "data": {
      "image/png": "[encoded data removed]",
      "text/plain": [
       "<Figure size 432x288 with 1 Axes>"
      ]
     },
     "metadata": {
      "needs_background": "light"
     },
     "output_type": "display_data"
    }
   ],
   "source": [
    "sns.boxplot(x='Adventure', y='Score', data=anime)\n",
    "plt.show()"
   ]
  },
  {
   "cell_type": "code",
   "execution_count": 24,
   "id": "2ed28b44",
   "metadata": {},
   "outputs": [
    {
     "data": {
      "text/plain": [
       "count    10118.000000\n",
       "mean         6.456281\n",
       "std          0.903460\n",
       "min          1.850000\n",
       "25%          5.840000\n",
       "50%          6.470000\n",
       "75%          7.100000\n",
       "max          9.170000\n",
       "Name: Score, dtype: float64"
      ]
     },
     "execution_count": 24,
     "metadata": {},
     "output_type": "execute_result"
    }
   ],
   "source": [
    "anime[(anime['Adventure'] == 0)]['Score'].describe()"
   ]
  },
  {
   "cell_type": "code",
   "execution_count": 25,
   "id": "d9c3a8d2",
   "metadata": {},
   "outputs": [
    {
     "data": {
      "image/png": "[encoded data removed]",
      "text/plain": [
       "<Figure size 432x288 with 1 Axes>"
      ]
     },
     "metadata": {
      "needs_background": "light"
     },
     "output_type": "display_data"
    }
   ],
   "source": [
    "sns.boxplot(x='Sci-Fi', y='Score', data=anime)\n",
    "plt.show()"
   ]
  },
  {
   "cell_type": "code",
   "execution_count": 26,
   "id": "0f236d6f",
   "metadata": {},
   "outputs": [
    {
     "data": {
      "text/plain": [
       "count    10221.000000\n",
       "mean         6.483436\n",
       "std          0.898316\n",
       "min          2.010000\n",
       "25%          5.880000\n",
       "50%          6.490000\n",
       "75%          7.130000\n",
       "max          9.190000\n",
       "Name: Score, dtype: float64"
      ]
     },
     "execution_count": 26,
     "metadata": {},
     "output_type": "execute_result"
    }
   ],
   "source": [
    "anime[(anime['Sci-Fi'] == 0)]['Score'].describe()"
   ]
  },
  {
   "cell_type": "code",
   "execution_count": 27,
   "id": "1087927c",
   "metadata": {},
   "outputs": [
    {
     "data": {
      "image/png": "[encoded data removed]",
      "text/plain": [
       "<Figure size 432x288 with 1 Axes>"
      ]
     },
     "metadata": {
      "needs_background": "light"
     },
     "output_type": "display_data"
    }
   ],
   "source": [
    "sns.boxplot(x='Drama', y='Score', data=anime)\n",
    "plt.show()"
   ]
  },
  {
   "cell_type": "code",
   "execution_count": 28,
   "id": "f1fefb25",
   "metadata": {},
   "outputs": [
    {
     "data": {
      "text/plain": [
       "count    10355.000000\n",
       "mean         6.419186\n",
       "std          0.871064\n",
       "min          1.850000\n",
       "25%          5.830000\n",
       "50%          6.440000\n",
       "75%          7.040000\n",
       "max          9.110000\n",
       "Name: Score, dtype: float64"
      ]
     },
     "execution_count": 28,
     "metadata": {},
     "output_type": "execute_result"
    }
   ],
   "source": [
    "anime[(anime['Drama'] == 0)]['Score'].describe()"
   ]
  },
  {
   "cell_type": "code",
   "execution_count": 29,
   "id": "2985b43e",
   "metadata": {},
   "outputs": [
    {
     "data": {
      "image/png": "[encoded data removed]",
      "text/plain": [
       "<Figure size 432x288 with 1 Axes>"
      ]
     },
     "metadata": {
      "needs_background": "light"
     },
     "output_type": "display_data"
    }
   ],
   "source": [
    "sns.boxplot(x='Shounen', y='Score', data=anime)\n",
    "plt.show()"
   ]
  },
  {
   "cell_type": "code",
   "execution_count": 30,
   "id": "c0119006",
   "metadata": {},
   "outputs": [
    {
     "data": {
      "text/plain": [
       "count    10519.000000\n",
       "mean         6.420402\n",
       "std          0.878175\n",
       "min          1.850000\n",
       "25%          5.830000\n",
       "50%          6.440000\n",
       "75%          7.040000\n",
       "max          9.110000\n",
       "Name: Score, dtype: float64"
      ]
     },
     "execution_count": 30,
     "metadata": {},
     "output_type": "execute_result"
    }
   ],
   "source": [
    "anime[(anime['Shounen'] == 0)]['Score'].describe()"
   ]
  },
  {
   "cell_type": "code",
   "execution_count": 31,
   "id": "363dca48",
   "metadata": {},
   "outputs": [
    {
     "data": {
      "image/png": "[encoded data removed]",
      "text/plain": [
       "<Figure size 432x288 with 1 Axes>"
      ]
     },
     "metadata": {
      "needs_background": "light"
     },
     "output_type": "display_data"
    }
   ],
   "source": [
    "sns.boxplot(x='Romance', y='Score', data=anime)\n",
    "plt.show()"
   ]
  },
  {
   "cell_type": "code",
   "execution_count": 32,
   "id": "b5f36696",
   "metadata": {},
   "outputs": [
    {
     "data": {
      "text/plain": [
       "count    10682.000000\n",
       "mean         6.451319\n",
       "std          0.889859\n",
       "min          1.850000\n",
       "25%          5.850000\n",
       "50%          6.460000\n",
       "75%          7.070000\n",
       "max          9.190000\n",
       "Name: Score, dtype: float64"
      ]
     },
     "execution_count": 32,
     "metadata": {},
     "output_type": "execute_result"
    }
   ],
   "source": [
    "anime[(anime['Romance'] == 0)]['Score'].describe()"
   ]
  },
  {
   "cell_type": "code",
   "execution_count": 33,
   "id": "46e954d6",
   "metadata": {},
   "outputs": [
    {
     "data": {
      "image/png": "[encoded data removed]",
      "text/plain": [
       "<Figure size 432x288 with 1 Axes>"
      ]
     },
     "metadata": {
      "needs_background": "light"
     },
     "output_type": "display_data"
    }
   ],
   "source": [
    "sns.boxplot(x='School', y='Score', data=anime)\n",
    "plt.show()"
   ]
  },
  {
   "cell_type": "code",
   "execution_count": 34,
   "id": "03446755",
   "metadata": {},
   "outputs": [
    {
     "data": {
      "text/plain": [
       "count    10973.000000\n",
       "mean         6.460548\n",
       "std          0.888556\n",
       "min          1.850000\n",
       "25%          5.870000\n",
       "50%          6.470000\n",
       "75%          7.090000\n",
       "max          9.190000\n",
       "Name: Score, dtype: float64"
      ]
     },
     "execution_count": 34,
     "metadata": {},
     "output_type": "execute_result"
    }
   ],
   "source": [
    "anime[(anime['School'] == 0)]['Score'].describe()"
   ]
  },
  {
   "cell_type": "code",
   "execution_count": 35,
   "id": "148e9b8c",
   "metadata": {},
   "outputs": [
    {
     "data": {
      "image/png": "[encoded data removed]",
      "text/plain": [
       "<Figure size 432x288 with 1 Axes>"
      ]
     },
     "metadata": {
      "needs_background": "light"
     },
     "output_type": "display_data"
    }
   ],
   "source": [
    "sns.boxplot(x='Slice of Life', y='Score', data=anime)\n",
    "plt.show()"
   ]
  },
  {
   "cell_type": "code",
   "execution_count": 36,
   "id": "918b9290",
   "metadata": {
    "scrolled": true
   },
   "outputs": [
    {
     "data": {
      "text/plain": [
       "count    11036.000000\n",
       "mean         6.470772\n",
       "std          0.882006\n",
       "min          1.850000\n",
       "25%          5.890000\n",
       "50%          6.480000\n",
       "75%          7.100000\n",
       "max          9.190000\n",
       "Name: Score, dtype: float64"
      ]
     },
     "execution_count": 36,
     "metadata": {},
     "output_type": "execute_result"
    }
   ],
   "source": [
    "anime[(anime['Slice of Life'] == 0)]['Score'].describe()"
   ]
  },
  {
   "cell_type": "code",
   "execution_count": 37,
   "id": "julian-shame",
   "metadata": {},
   "outputs": [
    {
     "data": {
      "text/plain": [
       "Text(0.5, 1.0, 'Correlation matrix')"
      ]
     },
     "execution_count": 37,
     "metadata": {},
     "output_type": "execute_result"
    },
    {
     "data": {
      "image/png": "[encoded data removed]",
      "text/plain": [
       "<Figure size 432x288 with 2 Axes>"
      ]
     },
     "metadata": {
      "needs_background": "light"
     },
     "output_type": "display_data"
    }
   ],
   "source": [
    "#Check for Multicollinearity Using Spearman Rank Correlations\n",
    "temp = anime[['Members', 'Favorites', 'Completed', 'Dropped']]\n",
    "corrs = temp.corr(method = \"spearman\")\n",
    "mask = np.zeros_like(corrs)\n",
    "mask[np.triu_indices_from(mask)] = True\n",
    "sns.heatmap(corrs, cmap='mako', mask=mask, square=True, vmin=-1, vmax=1)\n",
    "plt.title('Correlation matrix')"
   ]
  },
  {
   "cell_type": "code",
   "execution_count": 38,
   "id": "41953f51",
   "metadata": {
    "scrolled": false
   },
   "outputs": [
    {
     "name": "stdout",
     "output_type": "stream",
     "text": [
      "                            OLS Regression Results                            \n",
      "==============================================================================\n",
      "Dep. Variable:                  Score   R-squared:                       0.231\n",
      "Model:                            OLS   Adj. R-squared:                  0.231\n",
      "Method:                 Least Squares   F-statistic:                     931.4\n",
      "Date:                Fri, 17 Dec 2021   Prob (F-statistic):               0.00\n",
      "Time:                        18:38:27   Log-Likelihood:                -14475.\n",
      "No. Observations:               12406   AIC:                         2.896e+04\n",
      "Df Residuals:                   12401   BIC:                         2.900e+04\n",
      "Df Model:                           4                                         \n",
      "Covariance Type:            nonrobust                                         \n",
      "==============================================================================\n",
      "                 coef    std err          t      P>|t|      [0.025      0.975]\n",
      "------------------------------------------------------------------------------\n",
      "Intercept      6.3491      0.008    838.648      0.000       6.334       6.364\n",
      "Members     1.192e-05    3.1e-07     38.431      0.000    1.13e-05    1.25e-05\n",
      "Favorites  -4.109e-05   2.33e-06    -17.650      0.000   -4.57e-05   -3.65e-05\n",
      "Completed    -9.7e-06   3.59e-07    -27.027      0.000   -1.04e-05      -9e-06\n",
      "Dropped    -5.278e-05   2.23e-06    -23.648      0.000   -5.72e-05   -4.84e-05\n",
      "==============================================================================\n",
      "Omnibus:                      852.428   Durbin-Watson:                   1.508\n",
      "Prob(Omnibus):                  0.000   Jarque-Bera (JB):             1306.809\n",
      "Skew:                          -0.560   Prob(JB):                    1.70e-284\n",
      "Kurtosis:                       4.128   Cond. No.                     2.06e+05\n",
      "==============================================================================\n",
      "\n",
      "Notes:\n",
      "[1] Standard Errors assume that the covariance matrix of the errors is correctly specified.\n",
      "[2] The condition number is large, 2.06e+05. This might indicate that there are\n",
      "strong multicollinearity or other numerical problems.\n"
     ]
    }
   ],
   "source": [
    "results = smf.ols(formula = 'Score ~ Members + Favorites + Completed + Dropped', data=anime).fit()\n",
    "print(results.summary())"
   ]
  },
  {
   "cell_type": "code",
   "execution_count": 39,
   "id": "dried-chosen",
   "metadata": {},
   "outputs": [],
   "source": [
    "anime['Good'] = (anime['Score'] > 7.0)\n",
    "info = {'Good': {False: 0, True: 1}}\n",
    "anime = anime.replace(info)"
   ]
  },
  {
   "cell_type": "code",
   "execution_count": 40,
   "id": "embedded-chicago",
   "metadata": {},
   "outputs": [
    {
     "data": {
      "text/html": [
       "<div>\n",
       "<style scoped>\n",
       "    .dataframe tbody tr th:only-of-type {\n",
       "        vertical-align: middle;\n",
       "    }\n",
       "\n",
       "    .dataframe tbody tr th {\n",
       "        vertical-align: top;\n",
       "    }\n",
       "\n",
       "    .dataframe thead th {\n",
       "        text-align: right;\n",
       "    }\n",
       "</style>\n",
       "<table border=\"1\" class=\"dataframe\">\n",
       "  <thead>\n",
       "    <tr style=\"text-align: right;\">\n",
       "      <th></th>\n",
       "      <th>Score</th>\n",
       "      <th>Episodes</th>\n",
       "      <th>Members</th>\n",
       "      <th>Favorites</th>\n",
       "      <th>Watching</th>\n",
       "      <th>Completed</th>\n",
       "      <th>On-Hold</th>\n",
       "      <th>Dropped</th>\n",
       "      <th>Plan to Watch</th>\n",
       "      <th>Comedy</th>\n",
       "      <th>Action</th>\n",
       "      <th>Fantasy</th>\n",
       "      <th>Adventure</th>\n",
       "      <th>Sci-Fi</th>\n",
       "      <th>Drama</th>\n",
       "      <th>Shounen</th>\n",
       "      <th>Romance</th>\n",
       "      <th>School</th>\n",
       "      <th>Slice of Life</th>\n",
       "      <th>Good</th>\n",
       "    </tr>\n",
       "  </thead>\n",
       "  <tbody>\n",
       "    <tr>\n",
       "      <th>0</th>\n",
       "      <td>8.78</td>\n",
       "      <td>26.0</td>\n",
       "      <td>1251960</td>\n",
       "      <td>61971</td>\n",
       "      <td>105808</td>\n",
       "      <td>718161</td>\n",
       "      <td>71513</td>\n",
       "      <td>26678</td>\n",
       "      <td>329800</td>\n",
       "      <td>1</td>\n",
       "      <td>1</td>\n",
       "      <td>0</td>\n",
       "      <td>1</td>\n",
       "      <td>1</td>\n",
       "      <td>1</td>\n",
       "      <td>0</td>\n",
       "      <td>0</td>\n",
       "      <td>0</td>\n",
       "      <td>0</td>\n",
       "      <td>1</td>\n",
       "    </tr>\n",
       "  </tbody>\n",
       "</table>\n",
       "</div>"
      ],
      "text/plain": [
       "   Score  Episodes  Members  Favorites  Watching  Completed  On-Hold  Dropped  \\\n",
       "0   8.78      26.0  1251960      61971    105808     718161    71513    26678   \n",
       "\n",
       "   Plan to Watch  Comedy  Action  Fantasy  Adventure  Sci-Fi  Drama  Shounen  \\\n",
       "0         329800       1       1        0          1       1      1        0   \n",
       "\n",
       "   Romance  School  Slice of Life  Good  \n",
       "0        0       0              0     1  "
      ]
     },
     "execution_count": 40,
     "metadata": {},
     "output_type": "execute_result"
    }
   ],
   "source": [
    "anime1 = anime.drop([\"Good\", \"index\", \"MAL_ID\", \"Name\", \"Genres\", \"English name\", \"Japanese name\", \"Type\", \"Aired\", \"Premiered\", \"Producers\", \"Licensors\", \"Studios\", \"Source\", \"Duration\", \"Rating\", \"Ranked\", \"Popularity\", \"Score-10\", \"Score-9\", \"Score-8\", \"Score-7\", \"Score-6\", \"Score-5\", \"Score-4\", \"Score-3\", \"Score-2\", \"Score-1\", \"Total Scores\"], axis=1)\n",
    "anime1['Good'] = (anime1['Score'] > 7)\n",
    "info = {'Good': {False: 0, True: 1}}\n",
    "anime1 = anime1.replace(info)\n",
    "anime1.head(1)"
   ]
  },
  {
   "cell_type": "code",
   "execution_count": 41,
   "id": "european-mount",
   "metadata": {},
   "outputs": [
    {
     "data": {
      "text/html": [
       "<div>\n",
       "<style scoped>\n",
       "    .dataframe tbody tr th:only-of-type {\n",
       "        vertical-align: middle;\n",
       "    }\n",
       "\n",
       "    .dataframe tbody tr th {\n",
       "        vertical-align: top;\n",
       "    }\n",
       "\n",
       "    .dataframe thead th {\n",
       "        text-align: right;\n",
       "    }\n",
       "</style>\n",
       "<table border=\"1\" class=\"dataframe\">\n",
       "  <thead>\n",
       "    <tr style=\"text-align: right;\">\n",
       "      <th></th>\n",
       "      <th>Score</th>\n",
       "      <th>Episodes</th>\n",
       "      <th>Members</th>\n",
       "      <th>Favorites</th>\n",
       "      <th>Watching</th>\n",
       "      <th>Completed</th>\n",
       "      <th>On-Hold</th>\n",
       "      <th>Dropped</th>\n",
       "      <th>Plan to Watch</th>\n",
       "      <th>Comedy</th>\n",
       "      <th>Action</th>\n",
       "      <th>Fantasy</th>\n",
       "      <th>Adventure</th>\n",
       "      <th>Sci-Fi</th>\n",
       "      <th>Drama</th>\n",
       "      <th>Shounen</th>\n",
       "      <th>Romance</th>\n",
       "      <th>School</th>\n",
       "      <th>Slice of Life</th>\n",
       "      <th>Good</th>\n",
       "    </tr>\n",
       "  </thead>\n",
       "  <tbody>\n",
       "    <tr>\n",
       "      <th>0</th>\n",
       "      <td>8.78</td>\n",
       "      <td>26.0</td>\n",
       "      <td>1251960</td>\n",
       "      <td>61971</td>\n",
       "      <td>105808</td>\n",
       "      <td>718161</td>\n",
       "      <td>71513</td>\n",
       "      <td>26678</td>\n",
       "      <td>329800</td>\n",
       "      <td>1</td>\n",
       "      <td>1</td>\n",
       "      <td>0</td>\n",
       "      <td>1</td>\n",
       "      <td>1</td>\n",
       "      <td>1</td>\n",
       "      <td>0</td>\n",
       "      <td>0</td>\n",
       "      <td>0</td>\n",
       "      <td>0</td>\n",
       "      <td>1</td>\n",
       "    </tr>\n",
       "    <tr>\n",
       "      <th>1</th>\n",
       "      <td>8.39</td>\n",
       "      <td>1.0</td>\n",
       "      <td>273145</td>\n",
       "      <td>1174</td>\n",
       "      <td>4143</td>\n",
       "      <td>208333</td>\n",
       "      <td>1935</td>\n",
       "      <td>770</td>\n",
       "      <td>57964</td>\n",
       "      <td>0</td>\n",
       "      <td>1</td>\n",
       "      <td>0</td>\n",
       "      <td>0</td>\n",
       "      <td>1</td>\n",
       "      <td>1</td>\n",
       "      <td>0</td>\n",
       "      <td>0</td>\n",
       "      <td>0</td>\n",
       "      <td>0</td>\n",
       "      <td>1</td>\n",
       "    </tr>\n",
       "    <tr>\n",
       "      <th>2</th>\n",
       "      <td>8.24</td>\n",
       "      <td>26.0</td>\n",
       "      <td>558913</td>\n",
       "      <td>12944</td>\n",
       "      <td>29113</td>\n",
       "      <td>343492</td>\n",
       "      <td>25465</td>\n",
       "      <td>13925</td>\n",
       "      <td>146918</td>\n",
       "      <td>1</td>\n",
       "      <td>1</td>\n",
       "      <td>0</td>\n",
       "      <td>1</td>\n",
       "      <td>1</td>\n",
       "      <td>1</td>\n",
       "      <td>1</td>\n",
       "      <td>0</td>\n",
       "      <td>0</td>\n",
       "      <td>0</td>\n",
       "      <td>1</td>\n",
       "    </tr>\n",
       "  </tbody>\n",
       "</table>\n",
       "</div>"
      ],
      "text/plain": [
       "   Score  Episodes  Members  Favorites  Watching  Completed  On-Hold  Dropped  \\\n",
       "0   8.78      26.0  1251960      61971    105808     718161    71513    26678   \n",
       "1   8.39       1.0   273145       1174      4143     208333     1935      770   \n",
       "2   8.24      26.0   558913      12944     29113     343492    25465    13925   \n",
       "\n",
       "   Plan to Watch  Comedy  Action  Fantasy  Adventure  Sci-Fi  Drama  Shounen  \\\n",
       "0         329800       1       1        0          1       1      1        0   \n",
       "1          57964       0       1        0          0       1      1        0   \n",
       "2         146918       1       1        0          1       1      1        1   \n",
       "\n",
       "   Romance  School  Slice of Life  Good  \n",
       "0        0       0              0     1  \n",
       "1        0       0              0     1  \n",
       "2        0       0              0     1  "
      ]
     },
     "execution_count": 41,
     "metadata": {},
     "output_type": "execute_result"
    }
   ],
   "source": [
    "anime1 = anime1.dropna()\n",
    "anime1.head(3)"
   ]
  },
  {
   "cell_type": "code",
   "execution_count": 42,
   "id": "narrow-american",
   "metadata": {},
   "outputs": [
    {
     "name": "stdout",
     "output_type": "stream",
     "text": [
      "Optimization terminated successfully.\n",
      "         Current function value: 0.541529\n",
      "         Iterations 6\n"
     ]
    }
   ],
   "source": [
    "x = anime1.iloc[:, 9:19]\n",
    "y = anime1.iloc[:, 19]\n",
    "x = sm.add_constant(x)\n",
    "logit_mod = sm.Logit(y, x).fit()"
   ]
  },
  {
   "cell_type": "code",
   "execution_count": 43,
   "id": "refined-camera",
   "metadata": {
    "scrolled": false
   },
   "outputs": [
    {
     "name": "stdout",
     "output_type": "stream",
     "text": [
      "                           Logit Regression Results                           \n",
      "==============================================================================\n",
      "Dep. Variable:                   Good   No. Observations:                12301\n",
      "Model:                          Logit   Df Residuals:                    12290\n",
      "Method:                           MLE   Df Model:                           10\n",
      "Date:                Fri, 17 Dec 2021   Pseudo R-squ.:                  0.1167\n",
      "Time:                        18:38:27   Log-Likelihood:                -6661.3\n",
      "converged:                       True   LL-Null:                       -7541.7\n",
      "Covariance Type:            nonrobust   LLR p-value:                     0.000\n",
      "=================================================================================\n",
      "                    coef    std err          z      P>|z|      [0.025      0.975]\n",
      "---------------------------------------------------------------------------------\n",
      "const            -1.9958      0.042    -46.967      0.000      -2.079      -1.913\n",
      "Comedy            0.4588      0.046     10.012      0.000       0.369       0.549\n",
      "Action            0.7776      0.050     15.610      0.000       0.680       0.875\n",
      "Fantasy           0.2517      0.055      4.539      0.000       0.143       0.360\n",
      "Adventure         0.2530      0.057      4.456      0.000       0.142       0.364\n",
      "Sci-Fi            0.0131      0.057      0.228      0.820      -0.099       0.125\n",
      "Drama             1.0632      0.055     19.315      0.000       0.955       1.171\n",
      "Shounen           0.9774      0.056     17.431      0.000       0.868       1.087\n",
      "Romance           0.5481      0.060      9.189      0.000       0.431       0.665\n",
      "School            0.6345      0.065      9.792      0.000       0.507       0.761\n",
      "Slice of Life     0.8317      0.066     12.578      0.000       0.702       0.961\n",
      "=================================================================================\n"
     ]
    }
   ],
   "source": [
    "print(logit_mod.summary())"
   ]
  },
  {
   "cell_type": "code",
   "execution_count": 44,
   "id": "humanitarian-prophet",
   "metadata": {
    "scrolled": true
   },
   "outputs": [
    {
     "data": {
      "text/plain": [
       "const            0.135907\n",
       "Comedy           1.582171\n",
       "Action           2.176192\n",
       "Fantasy          1.286218\n",
       "Adventure        1.287918\n",
       "Sci-Fi           1.013140\n",
       "Drama            2.895727\n",
       "Shounen          2.657621\n",
       "Romance          1.729915\n",
       "School           1.886049\n",
       "Slice of Life    2.297199\n",
       "dtype: float64"
      ]
     },
     "execution_count": 44,
     "metadata": {},
     "output_type": "execute_result"
    }
   ],
   "source": [
    "np.exp(logit_mod.params)"
   ]
  },
  {
   "cell_type": "code",
   "execution_count": 45,
   "id": "loaded-puppy",
   "metadata": {
    "scrolled": true
   },
   "outputs": [
    {
     "data": {
      "text/html": [
       "<div>\n",
       "<style scoped>\n",
       "    .dataframe tbody tr th:only-of-type {\n",
       "        vertical-align: middle;\n",
       "    }\n",
       "\n",
       "    .dataframe tbody tr th {\n",
       "        vertical-align: top;\n",
       "    }\n",
       "\n",
       "    .dataframe thead th {\n",
       "        text-align: right;\n",
       "    }\n",
       "</style>\n",
       "<table border=\"1\" class=\"dataframe\">\n",
       "  <thead>\n",
       "    <tr style=\"text-align: right;\">\n",
       "      <th></th>\n",
       "      <th>0</th>\n",
       "      <th>1</th>\n",
       "    </tr>\n",
       "  </thead>\n",
       "  <tbody>\n",
       "    <tr>\n",
       "      <th>const</th>\n",
       "      <td>0.125046</td>\n",
       "      <td>0.147710</td>\n",
       "    </tr>\n",
       "    <tr>\n",
       "      <th>Comedy</th>\n",
       "      <td>1.446259</td>\n",
       "      <td>1.730855</td>\n",
       "    </tr>\n",
       "    <tr>\n",
       "      <th>Action</th>\n",
       "      <td>1.973766</td>\n",
       "      <td>2.399378</td>\n",
       "    </tr>\n",
       "    <tr>\n",
       "      <th>Fantasy</th>\n",
       "      <td>1.153749</td>\n",
       "      <td>1.433897</td>\n",
       "    </tr>\n",
       "    <tr>\n",
       "      <th>Adventure</th>\n",
       "      <td>1.152262</td>\n",
       "      <td>1.439545</td>\n",
       "    </tr>\n",
       "    <tr>\n",
       "      <th>Sci-Fi</th>\n",
       "      <td>0.905494</td>\n",
       "      <td>1.133582</td>\n",
       "    </tr>\n",
       "    <tr>\n",
       "      <th>Drama</th>\n",
       "      <td>2.599563</td>\n",
       "      <td>3.225631</td>\n",
       "    </tr>\n",
       "    <tr>\n",
       "      <th>Shounen</th>\n",
       "      <td>2.381020</td>\n",
       "      <td>2.966354</td>\n",
       "    </tr>\n",
       "    <tr>\n",
       "      <th>Romance</th>\n",
       "      <td>1.539053</td>\n",
       "      <td>1.944446</td>\n",
       "    </tr>\n",
       "    <tr>\n",
       "      <th>School</th>\n",
       "      <td>1.661111</td>\n",
       "      <td>2.141446</td>\n",
       "    </tr>\n",
       "    <tr>\n",
       "      <th>Slice of Life</th>\n",
       "      <td>2.017970</td>\n",
       "      <td>2.615066</td>\n",
       "    </tr>\n",
       "  </tbody>\n",
       "</table>\n",
       "</div>"
      ],
      "text/plain": [
       "                      0         1\n",
       "const          0.125046  0.147710\n",
       "Comedy         1.446259  1.730855\n",
       "Action         1.973766  2.399378\n",
       "Fantasy        1.153749  1.433897\n",
       "Adventure      1.152262  1.439545\n",
       "Sci-Fi         0.905494  1.133582\n",
       "Drama          2.599563  3.225631\n",
       "Shounen        2.381020  2.966354\n",
       "Romance        1.539053  1.944446\n",
       "School         1.661111  2.141446\n",
       "Slice of Life  2.017970  2.615066"
      ]
     },
     "execution_count": 45,
     "metadata": {},
     "output_type": "execute_result"
    }
   ],
   "source": [
    "np.exp(logit_mod.conf_int())"
   ]
  },
  {
   "cell_type": "code",
   "execution_count": 46,
   "id": "square-malta",
   "metadata": {},
   "outputs": [
    {
     "data": {
      "text/plain": [
       "2047"
      ]
     },
     "execution_count": 46,
     "metadata": {},
     "output_type": "execute_result"
    }
   ],
   "source": [
    "anime1.Drama.sum()"
   ]
  },
  {
   "cell_type": "code",
   "execution_count": 47,
   "id": "limiting-speaking",
   "metadata": {
    "scrolled": false
   },
   "outputs": [
    {
     "data": {
      "text/plain": [
       "1875"
      ]
     },
     "execution_count": 47,
     "metadata": {},
     "output_type": "execute_result"
    }
   ],
   "source": [
    "anime1.Shounen.sum()"
   ]
  },
  {
   "cell_type": "code",
   "execution_count": 49,
   "id": "armed-potter",
   "metadata": {},
   "outputs": [
    {
     "data": {
      "text/plain": [
       "Score            8.010691e+04\n",
       "Episodes         1.395150e+05\n",
       "Members          5.999284e+08\n",
       "Favorites        7.856672e+06\n",
       "Watching         3.750089e+07\n",
       "Completed        3.876876e+08\n",
       "On-Hold          1.636226e+07\n",
       "Dropped          2.014070e+07\n",
       "Plan to Watch    1.382369e+08\n",
       "Comedy           4.524000e+03\n",
       "Action           3.297000e+03\n",
       "Fantasy          2.428000e+03\n",
       "Adventure        2.273000e+03\n",
       "Sci-Fi           2.182000e+03\n",
       "Drama            2.047000e+03\n",
       "Shounen          1.875000e+03\n",
       "Romance          1.721000e+03\n",
       "School           1.425000e+03\n",
       "Slice of Life    1.357000e+03\n",
       "Good             3.723000e+03\n",
       "dtype: float64"
      ]
     },
     "execution_count": 49,
     "metadata": {},
     "output_type": "execute_result"
    }
   ],
   "source": [
    "anime1.sum()"
   ]
  }
 ],
 "metadata": {
  "kernelspec": {
   "display_name": "Python 3",
   "language": "python",
   "name": "python3"
  },
  "language_info": {
   "codemirror_mode": {
    "name": "ipython",
    "version": 3
   },
   "file_extension": ".py",
   "mimetype": "text/x-python",
   "name": "python",
   "nbconvert_exporter": "python",
   "pygments_lexer": "ipython3",
   "version": "3.8.5"
  }
 },
 "nbformat": 4,
 "nbformat_minor": 5
}
